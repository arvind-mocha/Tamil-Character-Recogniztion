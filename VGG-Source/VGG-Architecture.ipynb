{
 "cells": [
  {
   "cell_type": "markdown",
   "metadata": {},
   "source": [
    "## IMPORTS"
   ]
  },
  {
   "cell_type": "code",
   "execution_count": 8,
   "metadata": {},
   "outputs": [],
   "source": [
    "from tensorflow.keras.layers import MaxPool2D, Flatten, Dense\n",
    "from sklearn.datasets import make_multilabel_classification\n",
    "from keras.preprocessing.image import ImageDataGenerator\n",
    "from tensorflow.keras.layers import Input, Conv2D \n",
    "from keras.preprocessing import image\n",
    "from tensorflow.keras import Model\n",
    "import tensorflow as tf\n",
    "import numpy as np\n",
    "import h5py"
   ]
  },
  {
   "cell_type": "markdown",
   "metadata": {},
   "source": [
    "## TRAINING DATASET"
   ]
  },
  {
   "cell_type": "code",
   "execution_count": 2,
   "metadata": {},
   "outputs": [
    {
     "name": "stdout",
     "output_type": "stream",
     "text": [
      "Found 1175 images belonging to 3 classes.\n"
     ]
    }
   ],
   "source": [
    "train_datagen = ImageDataGenerator(rescale = 1./255,horizontal_flip = True)\n",
    "training_set = train_datagen.flow_from_directory(\n",
    "#     'uTHCD_a(70-30-split)/70-30-split/train-test-classwise/Train',\n",
    "    \"Training/train\",\n",
    "    target_size = (64, 64),\n",
    "    batch_size = 32,\n",
    "    class_mode = 'categorical'\n",
    ")"
   ]
  },
  {
   "cell_type": "markdown",
   "metadata": {},
   "source": [
    "## TESTING DATASET"
   ]
  },
  {
   "cell_type": "code",
   "execution_count": 3,
   "metadata": {},
   "outputs": [
    {
     "name": "stdout",
     "output_type": "stream",
     "text": [
      "Found 510 images belonging to 3 classes.\n"
     ]
    }
   ],
   "source": [
    "test_datagen = ImageDataGenerator(rescale = 1./255)\n",
    "test_set = test_datagen.flow_from_directory(\n",
    "#     'uTHCD_a(70-30-split)/70-30-split/train-test-classwise/Test',\n",
    "    \"Training/test\",\n",
    "    target_size = (64, 64),\n",
    "    batch_size = 32,\n",
    "    class_mode = 'categorical'\n",
    ")"
   ]
  },
  {
   "cell_type": "markdown",
   "metadata": {},
   "source": [
    "## VGG ARCHITECTURE"
   ]
  },
  {
   "cell_type": "code",
   "execution_count": 5,
   "metadata": {},
   "outputs": [],
   "source": [
    "cnn = tf.keras.models.Sequential()"
   ]
  },
  {
   "cell_type": "code",
   "execution_count": 6,
   "metadata": {},
   "outputs": [],
   "source": [
    "# 1st Conv Block\n",
    "cnn.add(tf.keras.layers.Conv2D(filters =64, kernel_size =3, padding ='same',input_shape=[64,64,3],activation='relu'))\n",
    "cnn.add(tf.keras.layers.Conv2D(filters =64, kernel_size =3, padding ='same',input_shape=[64,64,64], activation='relu'))\n",
    "cnn.add(tf.keras.layers.MaxPool2D(pool_size =2, strides =2,input_shape=[32,64,64], padding ='same'))"
   ]
  },
  {
   "cell_type": "code",
   "execution_count": 7,
   "metadata": {},
   "outputs": [],
   "source": [
    "# 2nd Conv Block\n",
    "cnn.add(tf.keras.layers.Conv2D(filters =128, kernel_size =3,input_shape=[32,32,128], padding ='same', activation='relu'))\n",
    "cnn.add(tf.keras.layers.Conv2D(filters =128, kernel_size =3,input_shape=[32,32,128], padding ='same', activation='relu'))\n",
    "cnn.add(tf.keras.layers.MaxPool2D(pool_size =2, strides =2,input_shape=[6,16,128], padding ='same'))"
   ]
  },
  {
   "cell_type": "code",
   "execution_count": 8,
   "metadata": {},
   "outputs": [],
   "source": [
    "# 3rd Conv block\n",
    "cnn.add(tf.keras.layers.Conv2D(filters =256, kernel_size =3,input_shape=[16,16,256], padding ='same', activation='relu'))\n",
    "cnn.add(tf.keras.layers.Conv2D(filters =256, kernel_size =3,input_shape=[16,16,256], padding ='same', activation='relu'))\n",
    "cnn.add(tf.keras.layers.Conv2D(filters =256, kernel_size =3,input_shape=[16,16,256], padding ='same', activation='relu'))\n",
    "cnn.add(tf.keras.layers.MaxPool2D(pool_size =2, strides =2,input_shape=[8,8,256], padding ='same'))"
   ]
  },
  {
   "cell_type": "code",
   "execution_count": 9,
   "metadata": {},
   "outputs": [],
   "source": [
    "# 4th Conv block\n",
    "cnn.add(tf.keras.layers.Conv2D(filters =512, kernel_size =3,input_shape=[8,8,512], padding ='same', activation='relu'))\n",
    "cnn.add(tf.keras.layers.Conv2D(filters =512, kernel_size =3,input_shape=[8,8,512], padding ='same', activation='relu'))\n",
    "cnn.add(tf.keras.layers.Conv2D(filters =512, kernel_size =3,input_shape=[8,8,512], padding ='same', activation='relu'))\n",
    "cnn.add(tf.keras.layers.MaxPool2D(pool_size =2, strides =2,input_shape=[4,4,512], padding ='same'))"
   ]
  },
  {
   "cell_type": "code",
   "execution_count": 10,
   "metadata": {},
   "outputs": [],
   "source": [
    "# 5th Conv block\n",
    "cnn.add(tf.keras.layers.Conv2D(filters =512, kernel_size =3,input_shape=[4,4,512], padding ='same', activation='relu'))\n",
    "cnn.add(tf.keras.layers.Conv2D(filters =512, kernel_size =3,input_shape=[4,4,512], padding ='same', activation='relu'))\n",
    "cnn.add(tf.keras.layers.Conv2D(filters =512, kernel_size =3,input_shape=[4,4,512], padding ='same', activation='relu'))\n",
    "cnn.add(tf.keras.layers.MaxPool2D(pool_size =2, strides =2,input_shape=[2,2,512], padding ='same'))"
   ]
  },
  {
   "cell_type": "markdown",
   "metadata": {},
   "source": [
    "## COMPLETE ARCHITECTURE"
   ]
  },
  {
   "cell_type": "code",
   "execution_count": 11,
   "metadata": {},
   "outputs": [],
   "source": [
    "cnn.add(tf.keras.layers.Flatten())\n",
    "cnn.add(tf.keras.layers.Dense(units=512, activation='relu'))\n",
    "cnn.add(tf.keras.layers.Dense(units=156, activation='softmax'))"
   ]
  },
  {
   "cell_type": "markdown",
   "metadata": {},
   "source": [
    "## COMPILING AND ATTACHING"
   ]
  },
  {
   "cell_type": "code",
   "execution_count": 12,
   "metadata": {},
   "outputs": [],
   "source": [
    "cnn.compile(optimizer = tf.keras.optimizers.Adam(learning_rate=0.001),\n",
    "            loss = 'categorical_crossentropy',\n",
    "            metrics = ['accuracy'])"
   ]
  },
  {
   "cell_type": "code",
   "execution_count": null,
   "metadata": {},
   "outputs": [],
   "source": [
    "cnn.fit(x = training_set, validation_data = test_set, epochs = 5)"
   ]
  },
  {
   "cell_type": "code",
   "execution_count": null,
   "metadata": {},
   "outputs": [],
   "source": [
    "cnn.summary()"
   ]
  }
 ],
 "metadata": {
  "kernelspec": {
   "display_name": "Python 3",
   "language": "python",
   "name": "python3"
  },
  "language_info": {
   "codemirror_mode": {
    "name": "ipython",
    "version": 3
   },
   "file_extension": ".py",
   "mimetype": "text/x-python",
   "name": "python",
   "nbconvert_exporter": "python",
   "pygments_lexer": "ipython3",
   "version": "3.8.5"
  }
 },
 "nbformat": 4,
 "nbformat_minor": 4
}
