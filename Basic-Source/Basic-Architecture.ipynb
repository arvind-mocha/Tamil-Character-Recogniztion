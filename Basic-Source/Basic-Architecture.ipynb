{
 "cells": [
  {
   "cell_type": "markdown",
   "metadata": {},
   "source": [
    "# IMPORTS"
   ]
  },
  {
   "cell_type": "code",
   "execution_count": 1,
   "metadata": {},
   "outputs": [],
   "source": [
    "import tensorflow as tf\n",
    "from keras.preprocessing.image import ImageDataGenerator\n",
    "import numpy as np\n",
    "from keras.preprocessing import image\n",
    "import os"
   ]
  },
  {
   "cell_type": "markdown",
   "metadata": {},
   "source": [
    "### TRAINING DATASET GENERATION"
   ]
  },
  {
   "cell_type": "code",
   "execution_count": 2,
   "metadata": {},
   "outputs": [
    {
     "name": "stdout",
     "output_type": "stream",
     "text": [
      "Found 62870 images belonging to 156 classes.\n"
     ]
    }
   ],
   "source": [
    "train_datagen = ImageDataGenerator(rescale = 1./255,horizontal_flip = True)\n",
    "training_set = train_datagen.flow_from_directory(\n",
    "    '../uTHCD_a(70-30-split)/70-30-split/train-test-classwise/Train',\n",
    "    target_size = (64, 64),\n",
    "    batch_size = 32,\n",
    "    class_mode = 'categorical'\n",
    ")"
   ]
  },
  {
   "cell_type": "markdown",
   "metadata": {},
   "source": [
    "### TRAINING DATASET GENERATION"
   ]
  },
  {
   "cell_type": "code",
   "execution_count": 3,
   "metadata": {},
   "outputs": [
    {
     "name": "stdout",
     "output_type": "stream",
     "text": [
      "Found 28080 images belonging to 156 classes.\n"
     ]
    }
   ],
   "source": [
    "test_datagen = ImageDataGenerator(rescale = 1./255)\n",
    "test_set = test_datagen.flow_from_directory(\n",
    "    '../uTHCD_a(70-30-split)/70-30-split/train-test-classwise/Test',\n",
    "    target_size = (64, 64),\n",
    "    batch_size = 32,\n",
    "    class_mode = 'categorical'\n",
    ")"
   ]
  },
  {
   "cell_type": "markdown",
   "metadata": {},
   "source": [
    "### NEURAL NETWORK LAYER CONSTRUCTION"
   ]
  },
  {
   "cell_type": "code",
   "execution_count": 4,
   "metadata": {},
   "outputs": [],
   "source": [
    "cnn = tf.keras.models.Sequential()"
   ]
  },
  {
   "cell_type": "code",
   "execution_count": 5,
   "metadata": {},
   "outputs": [],
   "source": [
    "def constructModel(classes):\n",
    "    cnn.add(tf.keras.layers.Conv2D(filters=32, kernel_size=3, activation='relu', input_shape=[64, 64, 3]))\n",
    "    cnn.add(tf.keras.layers.MaxPool2D(pool_size=2, strides=2))\n",
    "    cnn.add(tf.keras.layers.Conv2D(filters=32, kernel_size=3, activation='relu'))\n",
    "    cnn.add(tf.keras.layers.MaxPool2D(pool_size=2, strides=2))\n",
    "    cnn.add(tf.keras.layers.Flatten())\n",
    "    cnn.add(tf.keras.layers.Dense(units=128, activation='relu'))\n",
    "    cnn.add(tf.keras.layers.Dense(units=classes, activation='softmax'))\n",
    "    cnn.compile(optimizer = 'adam', loss = 'categorical_crossentropy', metrics = ['accuracy'])\n",
    "    return cnn"
   ]
  },
  {
   "cell_type": "markdown",
   "metadata": {},
   "source": [
    "### TRAINING"
   ]
  },
  {
   "cell_type": "code",
   "execution_count": 6,
   "metadata": {},
   "outputs": [],
   "source": [
    "checkpoint = tf.keras.callbacks.ModelCheckpoint(\"h5 basicArc.h5\", \n",
    "                             monitor='val_accuracy', \n",
    "                             verbose=1, \n",
    "                             save_best_only=True, \n",
    "                             save_weights_only=False,\n",
    "                             mode='auto')"
   ]
  },
  {
   "cell_type": "code",
   "execution_count": 7,
   "metadata": {},
   "outputs": [
    {
     "name": "stdout",
     "output_type": "stream",
     "text": [
      "Epoch 1/20\n",
      "1965/1965 [==============================] - 172s 87ms/step - loss: 1.1542 - accuracy: 0.7204 - val_loss: 0.8189 - val_accuracy: 0.7791\n",
      "\n",
      "Epoch 00001: val_accuracy improved from -inf to 0.77906, saving model to h5 basicArc.h5\n",
      "Epoch 2/20\n",
      "1965/1965 [==============================] - 150s 76ms/step - loss: 0.4244 - accuracy: 0.8836 - val_loss: 0.7011 - val_accuracy: 0.8087\n",
      "\n",
      "Epoch 00002: val_accuracy improved from 0.77906 to 0.80869, saving model to h5 basicArc.h5\n",
      "Epoch 3/20\n",
      "1965/1965 [==============================] - 161s 82ms/step - loss: 0.2987 - accuracy: 0.9154 - val_loss: 0.6079 - val_accuracy: 0.8331\n",
      "\n",
      "Epoch 00003: val_accuracy improved from 0.80869 to 0.83308, saving model to h5 basicArc.h5\n",
      "Epoch 4/20\n",
      "1965/1965 [==============================] - 166s 85ms/step - loss: 0.2230 - accuracy: 0.9345 - val_loss: 0.6060 - val_accuracy: 0.8428\n",
      "\n",
      "Epoch 00004: val_accuracy improved from 0.83308 to 0.84284, saving model to h5 basicArc.h5\n",
      "Epoch 5/20\n",
      "1965/1965 [==============================] - 167s 85ms/step - loss: 0.1783 - accuracy: 0.9485 - val_loss: 0.6224 - val_accuracy: 0.8428\n",
      "\n",
      "Epoch 00005: val_accuracy did not improve from 0.84284\n",
      "Epoch 6/20\n",
      "1965/1965 [==============================] - 169s 86ms/step - loss: 0.1396 - accuracy: 0.9581 - val_loss: 0.6207 - val_accuracy: 0.8463\n",
      "\n",
      "Epoch 00006: val_accuracy improved from 0.84284 to 0.84630, saving model to h5 basicArc.h5\n",
      "Epoch 7/20\n",
      "1965/1965 [==============================] - 165s 84ms/step - loss: 0.1159 - accuracy: 0.9646 - val_loss: 0.6693 - val_accuracy: 0.8459\n",
      "\n",
      "Epoch 00007: val_accuracy did not improve from 0.84630\n",
      "Epoch 8/20\n",
      "1965/1965 [==============================] - 174s 88ms/step - loss: 0.0937 - accuracy: 0.9703 - val_loss: 0.7480 - val_accuracy: 0.8407\n",
      "\n",
      "Epoch 00008: val_accuracy did not improve from 0.84630\n",
      "Epoch 9/20\n",
      "1965/1965 [==============================] - 168s 86ms/step - loss: 0.0844 - accuracy: 0.9735 - val_loss: 0.7295 - val_accuracy: 0.8473\n",
      "\n",
      "Epoch 00009: val_accuracy improved from 0.84630 to 0.84733, saving model to h5 basicArc.h5\n",
      "Epoch 10/20\n",
      "1965/1965 [==============================] - 167s 85ms/step - loss: 0.0718 - accuracy: 0.9776 - val_loss: 0.8128 - val_accuracy: 0.8418\n",
      "\n",
      "Epoch 00010: val_accuracy did not improve from 0.84733\n",
      "Epoch 11/20\n",
      "1965/1965 [==============================] - 167s 85ms/step - loss: 0.0646 - accuracy: 0.9798 - val_loss: 0.7614 - val_accuracy: 0.8514\n",
      "\n",
      "Epoch 00011: val_accuracy improved from 0.84733 to 0.85142, saving model to h5 basicArc.h5\n",
      "Epoch 12/20\n",
      "1965/1965 [==============================] - 167s 85ms/step - loss: 0.0576 - accuracy: 0.9813 - val_loss: 0.8175 - val_accuracy: 0.8491\n",
      "\n",
      "Epoch 00012: val_accuracy did not improve from 0.85142\n",
      "Epoch 13/20\n",
      "1965/1965 [==============================] - 164s 83ms/step - loss: 0.0524 - accuracy: 0.9835 - val_loss: 0.8946 - val_accuracy: 0.8426\n",
      "\n",
      "Epoch 00013: val_accuracy did not improve from 0.85142\n",
      "Epoch 14/20\n",
      "1965/1965 [==============================] - 165s 84ms/step - loss: 0.0464 - accuracy: 0.9846 - val_loss: 0.8574 - val_accuracy: 0.8463\n",
      "\n",
      "Epoch 00014: val_accuracy did not improve from 0.85142\n",
      "Epoch 15/20\n",
      "1965/1965 [==============================] - 167s 85ms/step - loss: 0.0462 - accuracy: 0.9852 - val_loss: 0.8523 - val_accuracy: 0.8493\n",
      "\n",
      "Epoch 00015: val_accuracy did not improve from 0.85142\n",
      "Epoch 16/20\n",
      "1965/1965 [==============================] - 161s 82ms/step - loss: 0.0419 - accuracy: 0.9867 - val_loss: 1.0177 - val_accuracy: 0.8427\n",
      "\n",
      "Epoch 00016: val_accuracy did not improve from 0.85142\n",
      "Epoch 17/20\n",
      "1965/1965 [==============================] - 166s 84ms/step - loss: 0.0393 - accuracy: 0.9880 - val_loss: 0.8783 - val_accuracy: 0.8530\n",
      "\n",
      "Epoch 00017: val_accuracy improved from 0.85142 to 0.85296, saving model to h5 basicArc.h5\n",
      "Epoch 18/20\n",
      "1965/1965 [==============================] - 171s 87ms/step - loss: 0.0342 - accuracy: 0.9892 - val_loss: 1.0401 - val_accuracy: 0.8448\n",
      "\n",
      "Epoch 00018: val_accuracy did not improve from 0.85296\n",
      "Epoch 19/20\n",
      "1965/1965 [==============================] - 173s 88ms/step - loss: 0.0370 - accuracy: 0.9879 - val_loss: 0.9187 - val_accuracy: 0.8549\n",
      "\n",
      "Epoch 00019: val_accuracy improved from 0.85296 to 0.85491, saving model to h5 basicArc.h5\n",
      "Epoch 20/20\n",
      "1965/1965 [==============================] - 172s 87ms/step - loss: 0.0318 - accuracy: 0.9901 - val_loss: 0.9270 - val_accuracy: 0.8519\n",
      "\n",
      "Epoch 00020: val_accuracy did not improve from 0.85491\n"
     ]
    },
    {
     "data": {
      "text/plain": [
       "<keras.callbacks.History at 0x1c7c13fbc40>"
      ]
     },
     "execution_count": 7,
     "metadata": {},
     "output_type": "execute_result"
    }
   ],
   "source": [
    "model = constructModel(156)\n",
    "cnn.fit(x = training_set, validation_data = test_set, epochs = 20, callbacks = [checkpoint])"
   ]
  },
  {
   "cell_type": "code",
   "execution_count": 16,
   "metadata": {},
   "outputs": [
    {
     "name": "stdout",
     "output_type": "stream",
     "text": [
      "{'000': 0, '001': 1, '002': 2, '003': 3, '004': 4, '005': 5, '006': 6, '007': 7, '008': 8, '009': 9, '010': 10, '011': 11, '012': 12, '013': 13, '014': 14, '015': 15, '016': 16, '017': 17, '018': 18, '019': 19, '020': 20, '021': 21, '022': 22, '023': 23, '024': 24, '025': 25, '026': 26, '027': 27, '028': 28, '029': 29, '030': 30, '031': 31, '032': 32, '033': 33, '034': 34, '035': 35, '036': 36, '037': 37, '038': 38, '039': 39, '040': 40, '041': 41, '042': 42, '043': 43, '044': 44, '045': 45, '046': 46, '047': 47, '048': 48, '049': 49, '050': 50, '051': 51, '052': 52, '053': 53, '054': 54, '055': 55, '056': 56, '057': 57, '058': 58, '059': 59, '060': 60, '061': 61, '062': 62, '063': 63, '064': 64, '065': 65, '066': 66, '067': 67, '068': 68, '069': 69, '070': 70, '071': 71, '072': 72, '073': 73, '074': 74, '075': 75, '076': 76, '077': 77, '078': 78, '079': 79, '080': 80, '081': 81, '082': 82, '083': 83, '084': 84, '085': 85, '086': 86, '087': 87, '088': 88, '089': 89, '090': 90, '091': 91, '092': 92, '093': 93, '094': 94, '095': 95, '096': 96, '097': 97, '098': 98, '099': 99, '100': 100, '101': 101, '102': 102, '103': 103, '104': 104, '105': 105, '106': 106, '107': 107, '108': 108, '109': 109, '110': 110, '111': 111, '112': 112, '113': 113, '114': 114, '115': 115, '116': 116, '117': 117, '118': 118, '119': 119, '120': 120, '121': 121, '122': 122, '123': 123, '124': 124, '125': 125, '126': 126, '127': 127, '128': 128, '129': 129, '130': 130, '131': 131, '132': 132, '133': 133, '134': 134, '135': 135, '136': 136, '137': 137, '138': 138, '139': 139, '140': 140, '141': 141, '142': 142, '143': 143, '144': 144, '145': 145, '146': 146, '147': 147, '148': 148, '149': 149, '150': 150, '151': 151, '152': 152, '153': 153, '154': 154, '155': 155}\n"
     ]
    }
   ],
   "source": [
    "print(training_set.class_indices)"
   ]
  },
  {
   "cell_type": "code",
   "execution_count": null,
   "metadata": {},
   "outputs": [],
   "source": []
  }
 ],
 "metadata": {
  "kernelspec": {
   "display_name": "Python 3",
   "language": "python",
   "name": "python3"
  },
  "language_info": {
   "codemirror_mode": {
    "name": "ipython",
    "version": 3
   },
   "file_extension": ".py",
   "mimetype": "text/x-python",
   "name": "python",
   "nbconvert_exporter": "python",
   "pygments_lexer": "ipython3",
   "version": "3.8.5"
  }
 },
 "nbformat": 4,
 "nbformat_minor": 4
}
